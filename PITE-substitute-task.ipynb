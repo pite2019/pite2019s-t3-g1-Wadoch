{
 "cells": [
  {
   "cell_type": "code",
   "execution_count": 1,
   "metadata": {},
   "outputs": [],
   "source": [
    "import sklearn\n",
    "import sklearn.datasets\n",
    "import matplotlib.pyplot as plt\n",
    "import pandas as pd\n",
    "import numpy as np\n",
    "%matplotlib inline"
   ]
  },
  {
   "cell_type": "code",
   "execution_count": 4,
   "metadata": {},
   "outputs": [
    {
     "name": "stdout",
     "output_type": "stream",
     "text": [
      "(506, 13)\n"
     ]
    }
   ],
   "source": [
    "from sklearn.datasets import load_boston\n",
    "boston = load_boston()\n",
    "print(boston)"
   ]
  },
  {
   "cell_type": "code",
   "execution_count": 28,
   "metadata": {},
   "outputs": [
    {
     "name": "stdout",
     "output_type": "stream",
     "text": [
      "<bound method DataFrame.head of            0     1      2    3      4      5      6       7     8      9   \\\n",
      "0     0.00632  18.0   2.31  0.0  0.538  6.575   65.2  4.0900   1.0  296.0   \n",
      "1     0.02731   0.0   7.07  0.0  0.469  6.421   78.9  4.9671   2.0  242.0   \n",
      "2     0.02729   0.0   7.07  0.0  0.469  7.185   61.1  4.9671   2.0  242.0   \n",
      "3     0.03237   0.0   2.18  0.0  0.458  6.998   45.8  6.0622   3.0  222.0   \n",
      "4     0.06905   0.0   2.18  0.0  0.458  7.147   54.2  6.0622   3.0  222.0   \n",
      "5     0.02985   0.0   2.18  0.0  0.458  6.430   58.7  6.0622   3.0  222.0   \n",
      "6     0.08829  12.5   7.87  0.0  0.524  6.012   66.6  5.5605   5.0  311.0   \n",
      "7     0.14455  12.5   7.87  0.0  0.524  6.172   96.1  5.9505   5.0  311.0   \n",
      "8     0.21124  12.5   7.87  0.0  0.524  5.631  100.0  6.0821   5.0  311.0   \n",
      "9     0.17004  12.5   7.87  0.0  0.524  6.004   85.9  6.5921   5.0  311.0   \n",
      "10    0.22489  12.5   7.87  0.0  0.524  6.377   94.3  6.3467   5.0  311.0   \n",
      "11    0.11747  12.5   7.87  0.0  0.524  6.009   82.9  6.2267   5.0  311.0   \n",
      "12    0.09378  12.5   7.87  0.0  0.524  5.889   39.0  5.4509   5.0  311.0   \n",
      "13    0.62976   0.0   8.14  0.0  0.538  5.949   61.8  4.7075   4.0  307.0   \n",
      "14    0.63796   0.0   8.14  0.0  0.538  6.096   84.5  4.4619   4.0  307.0   \n",
      "15    0.62739   0.0   8.14  0.0  0.538  5.834   56.5  4.4986   4.0  307.0   \n",
      "16    1.05393   0.0   8.14  0.0  0.538  5.935   29.3  4.4986   4.0  307.0   \n",
      "17    0.78420   0.0   8.14  0.0  0.538  5.990   81.7  4.2579   4.0  307.0   \n",
      "18    0.80271   0.0   8.14  0.0  0.538  5.456   36.6  3.7965   4.0  307.0   \n",
      "19    0.72580   0.0   8.14  0.0  0.538  5.727   69.5  3.7965   4.0  307.0   \n",
      "20    1.25179   0.0   8.14  0.0  0.538  5.570   98.1  3.7979   4.0  307.0   \n",
      "21    0.85204   0.0   8.14  0.0  0.538  5.965   89.2  4.0123   4.0  307.0   \n",
      "22    1.23247   0.0   8.14  0.0  0.538  6.142   91.7  3.9769   4.0  307.0   \n",
      "23    0.98843   0.0   8.14  0.0  0.538  5.813  100.0  4.0952   4.0  307.0   \n",
      "24    0.75026   0.0   8.14  0.0  0.538  5.924   94.1  4.3996   4.0  307.0   \n",
      "25    0.84054   0.0   8.14  0.0  0.538  5.599   85.7  4.4546   4.0  307.0   \n",
      "26    0.67191   0.0   8.14  0.0  0.538  5.813   90.3  4.6820   4.0  307.0   \n",
      "27    0.95577   0.0   8.14  0.0  0.538  6.047   88.8  4.4534   4.0  307.0   \n",
      "28    0.77299   0.0   8.14  0.0  0.538  6.495   94.4  4.4547   4.0  307.0   \n",
      "29    1.00245   0.0   8.14  0.0  0.538  6.674   87.3  4.2390   4.0  307.0   \n",
      "..        ...   ...    ...  ...    ...    ...    ...     ...   ...    ...   \n",
      "476   4.87141   0.0  18.10  0.0  0.614  6.484   93.6  2.3053  24.0  666.0   \n",
      "477  15.02340   0.0  18.10  0.0  0.614  5.304   97.3  2.1007  24.0  666.0   \n",
      "478  10.23300   0.0  18.10  0.0  0.614  6.185   96.7  2.1705  24.0  666.0   \n",
      "479  14.33370   0.0  18.10  0.0  0.614  6.229   88.0  1.9512  24.0  666.0   \n",
      "480   5.82401   0.0  18.10  0.0  0.532  6.242   64.7  3.4242  24.0  666.0   \n",
      "481   5.70818   0.0  18.10  0.0  0.532  6.750   74.9  3.3317  24.0  666.0   \n",
      "482   5.73116   0.0  18.10  0.0  0.532  7.061   77.0  3.4106  24.0  666.0   \n",
      "483   2.81838   0.0  18.10  0.0  0.532  5.762   40.3  4.0983  24.0  666.0   \n",
      "484   2.37857   0.0  18.10  0.0  0.583  5.871   41.9  3.7240  24.0  666.0   \n",
      "485   3.67367   0.0  18.10  0.0  0.583  6.312   51.9  3.9917  24.0  666.0   \n",
      "486   5.69175   0.0  18.10  0.0  0.583  6.114   79.8  3.5459  24.0  666.0   \n",
      "487   4.83567   0.0  18.10  0.0  0.583  5.905   53.2  3.1523  24.0  666.0   \n",
      "488   0.15086   0.0  27.74  0.0  0.609  5.454   92.7  1.8209   4.0  711.0   \n",
      "489   0.18337   0.0  27.74  0.0  0.609  5.414   98.3  1.7554   4.0  711.0   \n",
      "490   0.20746   0.0  27.74  0.0  0.609  5.093   98.0  1.8226   4.0  711.0   \n",
      "491   0.10574   0.0  27.74  0.0  0.609  5.983   98.8  1.8681   4.0  711.0   \n",
      "492   0.11132   0.0  27.74  0.0  0.609  5.983   83.5  2.1099   4.0  711.0   \n",
      "493   0.17331   0.0   9.69  0.0  0.585  5.707   54.0  2.3817   6.0  391.0   \n",
      "494   0.27957   0.0   9.69  0.0  0.585  5.926   42.6  2.3817   6.0  391.0   \n",
      "495   0.17899   0.0   9.69  0.0  0.585  5.670   28.8  2.7986   6.0  391.0   \n",
      "496   0.28960   0.0   9.69  0.0  0.585  5.390   72.9  2.7986   6.0  391.0   \n",
      "497   0.26838   0.0   9.69  0.0  0.585  5.794   70.6  2.8927   6.0  391.0   \n",
      "498   0.23912   0.0   9.69  0.0  0.585  6.019   65.3  2.4091   6.0  391.0   \n",
      "499   0.17783   0.0   9.69  0.0  0.585  5.569   73.5  2.3999   6.0  391.0   \n",
      "500   0.22438   0.0   9.69  0.0  0.585  6.027   79.7  2.4982   6.0  391.0   \n",
      "501   0.06263   0.0  11.93  0.0  0.573  6.593   69.1  2.4786   1.0  273.0   \n",
      "502   0.04527   0.0  11.93  0.0  0.573  6.120   76.7  2.2875   1.0  273.0   \n",
      "503   0.06076   0.0  11.93  0.0  0.573  6.976   91.0  2.1675   1.0  273.0   \n",
      "504   0.10959   0.0  11.93  0.0  0.573  6.794   89.3  2.3889   1.0  273.0   \n",
      "505   0.04741   0.0  11.93  0.0  0.573  6.030   80.8  2.5050   1.0  273.0   \n",
      "\n",
      "       10      11     12  \n",
      "0    15.3  396.90   4.98  \n",
      "1    17.8  396.90   9.14  \n",
      "2    17.8  392.83   4.03  \n",
      "3    18.7  394.63   2.94  \n",
      "4    18.7  396.90   5.33  \n",
      "5    18.7  394.12   5.21  \n",
      "6    15.2  395.60  12.43  \n",
      "7    15.2  396.90  19.15  \n",
      "8    15.2  386.63  29.93  \n",
      "9    15.2  386.71  17.10  \n",
      "10   15.2  392.52  20.45  \n",
      "11   15.2  396.90  13.27  \n",
      "12   15.2  390.50  15.71  \n",
      "13   21.0  396.90   8.26  \n",
      "14   21.0  380.02  10.26  \n",
      "15   21.0  395.62   8.47  \n",
      "16   21.0  386.85   6.58  \n",
      "17   21.0  386.75  14.67  \n",
      "18   21.0  288.99  11.69  \n",
      "19   21.0  390.95  11.28  \n",
      "20   21.0  376.57  21.02  \n",
      "21   21.0  392.53  13.83  \n",
      "22   21.0  396.90  18.72  \n",
      "23   21.0  394.54  19.88  \n",
      "24   21.0  394.33  16.30  \n",
      "25   21.0  303.42  16.51  \n",
      "26   21.0  376.88  14.81  \n",
      "27   21.0  306.38  17.28  \n",
      "28   21.0  387.94  12.80  \n",
      "29   21.0  380.23  11.98  \n",
      "..    ...     ...    ...  \n",
      "476  20.2  396.21  18.68  \n",
      "477  20.2  349.48  24.91  \n",
      "478  20.2  379.70  18.03  \n",
      "479  20.2  383.32  13.11  \n",
      "480  20.2  396.90  10.74  \n",
      "481  20.2  393.07   7.74  \n",
      "482  20.2  395.28   7.01  \n",
      "483  20.2  392.92  10.42  \n",
      "484  20.2  370.73  13.34  \n",
      "485  20.2  388.62  10.58  \n",
      "486  20.2  392.68  14.98  \n",
      "487  20.2  388.22  11.45  \n",
      "488  20.1  395.09  18.06  \n",
      "489  20.1  344.05  23.97  \n",
      "490  20.1  318.43  29.68  \n",
      "491  20.1  390.11  18.07  \n",
      "492  20.1  396.90  13.35  \n",
      "493  19.2  396.90  12.01  \n",
      "494  19.2  396.90  13.59  \n",
      "495  19.2  393.29  17.60  \n",
      "496  19.2  396.90  21.14  \n",
      "497  19.2  396.90  14.10  \n",
      "498  19.2  396.90  12.92  \n",
      "499  19.2  395.77  15.10  \n",
      "500  19.2  396.90  14.33  \n",
      "501  21.0  391.99   9.67  \n",
      "502  21.0  396.90   9.08  \n",
      "503  21.0  396.90   5.64  \n",
      "504  21.0  393.45   6.48  \n",
      "505  21.0  396.90   7.88  \n",
      "\n",
      "[506 rows x 13 columns]>\n"
     ]
    },
    {
     "ename": "ValueError",
     "evalue": "Expected 2D array, got 1D array instead:\narray=[6.32000e-03 2.73100e-02 2.72900e-02 3.23700e-02 6.90500e-02 2.98500e-02\n 8.82900e-02 1.44550e-01 2.11240e-01 1.70040e-01 2.24890e-01 1.17470e-01\n 9.37800e-02 6.29760e-01 6.37960e-01 6.27390e-01 1.05393e+00 7.84200e-01\n 8.02710e-01 7.25800e-01 1.25179e+00 8.52040e-01 1.23247e+00 9.88430e-01\n 7.50260e-01 8.40540e-01 6.71910e-01 9.55770e-01 7.72990e-01 1.00245e+00\n 1.13081e+00 1.35472e+00 1.38799e+00 1.15172e+00 1.61282e+00 6.41700e-02\n 9.74400e-02 8.01400e-02 1.75050e-01 2.76300e-02 3.35900e-02 1.27440e-01\n 1.41500e-01 1.59360e-01 1.22690e-01 1.71420e-01 1.88360e-01 2.29270e-01\n 2.53870e-01 2.19770e-01 8.87300e-02 4.33700e-02 5.36000e-02 4.98100e-02\n 1.36000e-02 1.31100e-02 2.05500e-02 1.43200e-02 1.54450e-01 1.03280e-01\n 1.49320e-01 1.71710e-01 1.10270e-01 1.26500e-01 1.95100e-02 3.58400e-02\n 4.37900e-02 5.78900e-02 1.35540e-01 1.28160e-01 8.82600e-02 1.58760e-01\n 9.16400e-02 1.95390e-01 7.89600e-02 9.51200e-02 1.01530e-01 8.70700e-02\n 5.64600e-02 8.38700e-02 4.11300e-02 4.46200e-02 3.65900e-02 3.55100e-02\n 5.05900e-02 5.73500e-02 5.18800e-02 7.15100e-02 5.66000e-02 5.30200e-02\n 4.68400e-02 3.93200e-02 4.20300e-02 2.87500e-02 4.29400e-02 1.22040e-01\n 1.15040e-01 1.20830e-01 8.18700e-02 6.86000e-02 1.48660e-01 1.14320e-01\n 2.28760e-01 2.11610e-01 1.39600e-01 1.32620e-01 1.71200e-01 1.31170e-01\n 1.28020e-01 2.63630e-01 1.07930e-01 1.00840e-01 1.23290e-01 2.22120e-01\n 1.42310e-01 1.71340e-01 1.31580e-01 1.50980e-01 1.30580e-01 1.44760e-01\n 6.89900e-02 7.16500e-02 9.29900e-02 1.50380e-01 9.84900e-02 1.69020e-01\n 3.87350e-01 2.59150e-01 3.25430e-01 8.81250e-01 3.40060e-01 1.19294e+00\n 5.90050e-01 3.29820e-01 9.76170e-01 5.57780e-01 3.22640e-01 3.52330e-01\n 2.49800e-01 5.44520e-01 2.90900e-01 1.62864e+00 3.32105e+00 4.09740e+00\n 2.77974e+00 2.37934e+00 2.15505e+00 2.36862e+00 2.33099e+00 2.73397e+00\n 1.65660e+00 1.49632e+00 1.12658e+00 2.14918e+00 1.41385e+00 3.53501e+00\n 2.44668e+00 1.22358e+00 1.34284e+00 1.42502e+00 1.27346e+00 1.46336e+00\n 1.83377e+00 1.51902e+00 2.24236e+00 2.92400e+00 2.01019e+00 1.80028e+00\n 2.30040e+00 2.44953e+00 1.20742e+00 2.31390e+00 1.39140e-01 9.17800e-02\n 8.44700e-02 6.66400e-02 7.02200e-02 5.42500e-02 6.64200e-02 5.78000e-02\n 6.58800e-02 6.88800e-02 9.10300e-02 1.00080e-01 8.30800e-02 6.04700e-02\n 5.60200e-02 7.87500e-02 1.25790e-01 8.37000e-02 9.06800e-02 6.91100e-02\n 8.66400e-02 2.18700e-02 1.43900e-02 1.38100e-02 4.01100e-02 4.66600e-02\n 3.76800e-02 3.15000e-02 1.77800e-02 3.44500e-02 2.17700e-02 3.51000e-02\n 2.00900e-02 1.36420e-01 2.29690e-01 2.51990e-01 1.35870e-01 4.35710e-01\n 1.74460e-01 3.75780e-01 2.17190e-01 1.40520e-01 2.89550e-01 1.98020e-01\n 4.56000e-02 7.01300e-02 1.10690e-01 1.14250e-01 3.58090e-01 4.07710e-01\n 6.23560e-01 6.14700e-01 3.15330e-01 5.26930e-01 3.82140e-01 4.12380e-01\n 2.98190e-01 4.41780e-01 5.37000e-01 4.62960e-01 5.75290e-01 3.31470e-01\n 4.47910e-01 3.30450e-01 5.20580e-01 5.11830e-01 8.24400e-02 9.25200e-02\n 1.13290e-01 1.06120e-01 1.02900e-01 1.27570e-01 2.06080e-01 1.91330e-01\n 3.39830e-01 1.96570e-01 1.64390e-01 1.90730e-01 1.40300e-01 2.14090e-01\n 8.22100e-02 3.68940e-01 4.81900e-02 3.54800e-02 1.53800e-02 6.11540e-01\n 6.63510e-01 6.56650e-01 5.40110e-01 5.34120e-01 5.20140e-01 8.25260e-01\n 5.50070e-01 7.61620e-01 7.85700e-01 5.78340e-01 5.40500e-01 9.06500e-02\n 2.99160e-01 1.62110e-01 1.14600e-01 2.21880e-01 5.64400e-02 9.60400e-02\n 1.04690e-01 6.12700e-02 7.97800e-02 2.10380e-01 3.57800e-02 3.70500e-02\n 6.12900e-02 1.50100e-02 9.06000e-03 1.09600e-02 1.96500e-02 3.87100e-02\n 4.59000e-02 4.29700e-02 3.50200e-02 7.88600e-02 3.61500e-02 8.26500e-02\n 8.19900e-02 1.29320e-01 5.37200e-02 1.41030e-01 6.46600e-02 5.56100e-02\n 4.41700e-02 3.53700e-02 9.26600e-02 1.00000e-01 5.51500e-02 5.47900e-02\n 7.50300e-02 4.93200e-02 4.92980e-01 3.49400e-01 2.63548e+00 7.90410e-01\n 2.61690e-01 2.69380e-01 3.69200e-01 2.53560e-01 3.18270e-01 2.45220e-01\n 4.02020e-01 4.75470e-01 1.67600e-01 1.81590e-01 3.51140e-01 2.83920e-01\n 3.41090e-01 1.91860e-01 3.03470e-01 2.41030e-01 6.61700e-02 6.72400e-02\n 4.54400e-02 5.02300e-02 3.46600e-02 5.08300e-02 3.73800e-02 3.96100e-02\n 3.42700e-02 3.04100e-02 3.30600e-02 5.49700e-02 6.15100e-02 1.30100e-02\n 2.49800e-02 2.54300e-02 3.04900e-02 3.11300e-02 6.16200e-02 1.87000e-02\n 1.50100e-02 2.89900e-02 6.21100e-02 7.95000e-02 7.24400e-02 1.70900e-02\n 4.30100e-02 1.06590e-01 8.98296e+00 3.84970e+00 5.20177e+00 4.26131e+00\n 4.54192e+00 3.83684e+00 3.67822e+00 4.22239e+00 3.47428e+00 4.55587e+00\n 3.69695e+00 1.35222e+01 4.89822e+00 5.66998e+00 6.53876e+00 9.23230e+00\n 8.26725e+00 1.11081e+01 1.84982e+01 1.96091e+01 1.52880e+01 9.82349e+00\n 2.36482e+01 1.78667e+01 8.89762e+01 1.58744e+01 9.18702e+00 7.99248e+00\n 2.00849e+01 1.68118e+01 2.43938e+01 2.25971e+01 1.43337e+01 8.15174e+00\n 6.96215e+00 5.29305e+00 1.15779e+01 8.64476e+00 1.33598e+01 8.71675e+00\n 5.87205e+00 7.67202e+00 3.83518e+01 9.91655e+00 2.50461e+01 1.42362e+01\n 9.59571e+00 2.48017e+01 4.15292e+01 6.79208e+01 2.07162e+01 1.19511e+01\n 7.40389e+00 1.44383e+01 5.11358e+01 1.40507e+01 1.88110e+01 2.86558e+01\n 4.57461e+01 1.80846e+01 1.08342e+01 2.59406e+01 7.35341e+01 1.18123e+01\n 1.10874e+01 7.02259e+00 1.20482e+01 7.05042e+00 8.79212e+00 1.58603e+01\n 1.22472e+01 3.76619e+01 7.36711e+00 9.33889e+00 8.49213e+00 1.00623e+01\n 6.44405e+00 5.58107e+00 1.39134e+01 1.11604e+01 1.44208e+01 1.51772e+01\n 1.36781e+01 9.39063e+00 2.20511e+01 9.72418e+00 5.66637e+00 9.96654e+00\n 1.28023e+01 1.06718e+01 6.28807e+00 9.92485e+00 9.32909e+00 7.52601e+00\n 6.71772e+00 5.44114e+00 5.09017e+00 8.24809e+00 9.51363e+00 4.75237e+00\n 4.66883e+00 8.20058e+00 7.75223e+00 6.80117e+00 4.81213e+00 3.69311e+00\n 6.65492e+00 5.82115e+00 7.83932e+00 3.16360e+00 3.77498e+00 4.42228e+00\n 1.55757e+01 1.30751e+01 4.34879e+00 4.03841e+00 3.56868e+00 4.64689e+00\n 8.05579e+00 6.39312e+00 4.87141e+00 1.50234e+01 1.02330e+01 1.43337e+01\n 5.82401e+00 5.70818e+00 5.73116e+00 2.81838e+00 2.37857e+00 3.67367e+00\n 5.69175e+00 4.83567e+00 1.50860e-01 1.83370e-01 2.07460e-01 1.05740e-01\n 1.11320e-01 1.73310e-01 2.79570e-01 1.78990e-01 2.89600e-01 2.68380e-01\n 2.39120e-01 1.77830e-01 2.24380e-01 6.26300e-02 4.52700e-02 6.07600e-02\n 1.09590e-01 4.74100e-02].\nReshape your data either using array.reshape(-1, 1) if your data has a single feature or array.reshape(1, -1) if it contains a single sample.",
     "output_type": "error",
     "traceback": [
      "\u001b[0;31m---------------------------------------------------------------------------\u001b[0m",
      "\u001b[0;31mValueError\u001b[0m                                Traceback (most recent call last)",
      "\u001b[0;32m<ipython-input-28-58013bb9fa87>\u001b[0m in \u001b[0;36m<module>\u001b[0;34m()\u001b[0m\n\u001b[1;32m     13\u001b[0m \u001b[0mplot\u001b[0m\u001b[0;34m.\u001b[0m\u001b[0mhist\u001b[0m\u001b[0;34m(\u001b[0m\u001b[0mdf\u001b[0m\u001b[0;34m[\u001b[0m\u001b[0;36m1\u001b[0m\u001b[0;34m]\u001b[0m\u001b[0;34m)\u001b[0m\u001b[0;34m\u001b[0m\u001b[0m\n\u001b[1;32m     14\u001b[0m \u001b[0;34m\u001b[0m\u001b[0m\n\u001b[0;32m---> 15\u001b[0;31m \u001b[0mreg\u001b[0m \u001b[0;34m=\u001b[0m \u001b[0mLinearRegression\u001b[0m\u001b[0;34m(\u001b[0m\u001b[0;34m)\u001b[0m\u001b[0;34m.\u001b[0m\u001b[0mfit\u001b[0m\u001b[0;34m(\u001b[0m\u001b[0mdf\u001b[0m\u001b[0;34m[\u001b[0m\u001b[0;36m0\u001b[0m\u001b[0;34m]\u001b[0m\u001b[0;34m,\u001b[0m \u001b[0mdf\u001b[0m\u001b[0;34m[\u001b[0m\u001b[0;36m1\u001b[0m\u001b[0;34m]\u001b[0m\u001b[0;34m)\u001b[0m\u001b[0;34m\u001b[0m\u001b[0m\n\u001b[0m",
      "\u001b[0;32m/usr/local/lib/python2.7/site-packages/sklearn/linear_model/base.pyc\u001b[0m in \u001b[0;36mfit\u001b[0;34m(self, X, y, sample_weight)\u001b[0m\n\u001b[1;32m    456\u001b[0m         \u001b[0mn_jobs_\u001b[0m \u001b[0;34m=\u001b[0m \u001b[0mself\u001b[0m\u001b[0;34m.\u001b[0m\u001b[0mn_jobs\u001b[0m\u001b[0;34m\u001b[0m\u001b[0m\n\u001b[1;32m    457\u001b[0m         X, y = check_X_y(X, y, accept_sparse=['csr', 'csc', 'coo'],\n\u001b[0;32m--> 458\u001b[0;31m                          y_numeric=True, multi_output=True)\n\u001b[0m\u001b[1;32m    459\u001b[0m \u001b[0;34m\u001b[0m\u001b[0m\n\u001b[1;32m    460\u001b[0m         \u001b[0;32mif\u001b[0m \u001b[0msample_weight\u001b[0m \u001b[0;32mis\u001b[0m \u001b[0;32mnot\u001b[0m \u001b[0mNone\u001b[0m \u001b[0;32mand\u001b[0m \u001b[0mnp\u001b[0m\u001b[0;34m.\u001b[0m\u001b[0matleast_1d\u001b[0m\u001b[0;34m(\u001b[0m\u001b[0msample_weight\u001b[0m\u001b[0;34m)\u001b[0m\u001b[0;34m.\u001b[0m\u001b[0mndim\u001b[0m \u001b[0;34m>\u001b[0m \u001b[0;36m1\u001b[0m\u001b[0;34m:\u001b[0m\u001b[0;34m\u001b[0m\u001b[0m\n",
      "\u001b[0;32m/usr/local/lib/python2.7/site-packages/sklearn/utils/validation.pyc\u001b[0m in \u001b[0;36mcheck_X_y\u001b[0;34m(X, y, accept_sparse, accept_large_sparse, dtype, order, copy, force_all_finite, ensure_2d, allow_nd, multi_output, ensure_min_samples, ensure_min_features, y_numeric, warn_on_dtype, estimator)\u001b[0m\n\u001b[1;32m    754\u001b[0m                     \u001b[0mensure_min_features\u001b[0m\u001b[0;34m=\u001b[0m\u001b[0mensure_min_features\u001b[0m\u001b[0;34m,\u001b[0m\u001b[0;34m\u001b[0m\u001b[0m\n\u001b[1;32m    755\u001b[0m                     \u001b[0mwarn_on_dtype\u001b[0m\u001b[0;34m=\u001b[0m\u001b[0mwarn_on_dtype\u001b[0m\u001b[0;34m,\u001b[0m\u001b[0;34m\u001b[0m\u001b[0m\n\u001b[0;32m--> 756\u001b[0;31m                     estimator=estimator)\n\u001b[0m\u001b[1;32m    757\u001b[0m     \u001b[0;32mif\u001b[0m \u001b[0mmulti_output\u001b[0m\u001b[0;34m:\u001b[0m\u001b[0;34m\u001b[0m\u001b[0m\n\u001b[1;32m    758\u001b[0m         y = check_array(y, 'csr', force_all_finite=True, ensure_2d=False,\n",
      "\u001b[0;32m/usr/local/lib/python2.7/site-packages/sklearn/utils/validation.pyc\u001b[0m in \u001b[0;36mcheck_array\u001b[0;34m(array, accept_sparse, accept_large_sparse, dtype, order, copy, force_all_finite, ensure_2d, allow_nd, ensure_min_samples, ensure_min_features, warn_on_dtype, estimator)\u001b[0m\n\u001b[1;32m    550\u001b[0m                     \u001b[0;34m\"Reshape your data either using array.reshape(-1, 1) if \"\u001b[0m\u001b[0;34m\u001b[0m\u001b[0m\n\u001b[1;32m    551\u001b[0m                     \u001b[0;34m\"your data has a single feature or array.reshape(1, -1) \"\u001b[0m\u001b[0;34m\u001b[0m\u001b[0m\n\u001b[0;32m--> 552\u001b[0;31m                     \"if it contains a single sample.\".format(array))\n\u001b[0m\u001b[1;32m    553\u001b[0m \u001b[0;34m\u001b[0m\u001b[0m\n\u001b[1;32m    554\u001b[0m         \u001b[0;31m# in the future np.flexible dtypes will be handled like object dtypes\u001b[0m\u001b[0;34m\u001b[0m\u001b[0;34m\u001b[0m\u001b[0m\n",
      "\u001b[0;31mValueError\u001b[0m: Expected 2D array, got 1D array instead:\narray=[6.32000e-03 2.73100e-02 2.72900e-02 3.23700e-02 6.90500e-02 2.98500e-02\n 8.82900e-02 1.44550e-01 2.11240e-01 1.70040e-01 2.24890e-01 1.17470e-01\n 9.37800e-02 6.29760e-01 6.37960e-01 6.27390e-01 1.05393e+00 7.84200e-01\n 8.02710e-01 7.25800e-01 1.25179e+00 8.52040e-01 1.23247e+00 9.88430e-01\n 7.50260e-01 8.40540e-01 6.71910e-01 9.55770e-01 7.72990e-01 1.00245e+00\n 1.13081e+00 1.35472e+00 1.38799e+00 1.15172e+00 1.61282e+00 6.41700e-02\n 9.74400e-02 8.01400e-02 1.75050e-01 2.76300e-02 3.35900e-02 1.27440e-01\n 1.41500e-01 1.59360e-01 1.22690e-01 1.71420e-01 1.88360e-01 2.29270e-01\n 2.53870e-01 2.19770e-01 8.87300e-02 4.33700e-02 5.36000e-02 4.98100e-02\n 1.36000e-02 1.31100e-02 2.05500e-02 1.43200e-02 1.54450e-01 1.03280e-01\n 1.49320e-01 1.71710e-01 1.10270e-01 1.26500e-01 1.95100e-02 3.58400e-02\n 4.37900e-02 5.78900e-02 1.35540e-01 1.28160e-01 8.82600e-02 1.58760e-01\n 9.16400e-02 1.95390e-01 7.89600e-02 9.51200e-02 1.01530e-01 8.70700e-02\n 5.64600e-02 8.38700e-02 4.11300e-02 4.46200e-02 3.65900e-02 3.55100e-02\n 5.05900e-02 5.73500e-02 5.18800e-02 7.15100e-02 5.66000e-02 5.30200e-02\n 4.68400e-02 3.93200e-02 4.20300e-02 2.87500e-02 4.29400e-02 1.22040e-01\n 1.15040e-01 1.20830e-01 8.18700e-02 6.86000e-02 1.48660e-01 1.14320e-01\n 2.28760e-01 2.11610e-01 1.39600e-01 1.32620e-01 1.71200e-01 1.31170e-01\n 1.28020e-01 2.63630e-01 1.07930e-01 1.00840e-01 1.23290e-01 2.22120e-01\n 1.42310e-01 1.71340e-01 1.31580e-01 1.50980e-01 1.30580e-01 1.44760e-01\n 6.89900e-02 7.16500e-02 9.29900e-02 1.50380e-01 9.84900e-02 1.69020e-01\n 3.87350e-01 2.59150e-01 3.25430e-01 8.81250e-01 3.40060e-01 1.19294e+00\n 5.90050e-01 3.29820e-01 9.76170e-01 5.57780e-01 3.22640e-01 3.52330e-01\n 2.49800e-01 5.44520e-01 2.90900e-01 1.62864e+00 3.32105e+00 4.09740e+00\n 2.77974e+00 2.37934e+00 2.15505e+00 2.36862e+00 2.33099e+00 2.73397e+00\n 1.65660e+00 1.49632e+00 1.12658e+00 2.14918e+00 1.41385e+00 3.53501e+00\n 2.44668e+00 1.22358e+00 1.34284e+00 1.42502e+00 1.27346e+00 1.46336e+00\n 1.83377e+00 1.51902e+00 2.24236e+00 2.92400e+00 2.01019e+00 1.80028e+00\n 2.30040e+00 2.44953e+00 1.20742e+00 2.31390e+00 1.39140e-01 9.17800e-02\n 8.44700e-02 6.66400e-02 7.02200e-02 5.42500e-02 6.64200e-02 5.78000e-02\n 6.58800e-02 6.88800e-02 9.10300e-02 1.00080e-01 8.30800e-02 6.04700e-02\n 5.60200e-02 7.87500e-02 1.25790e-01 8.37000e-02 9.06800e-02 6.91100e-02\n 8.66400e-02 2.18700e-02 1.43900e-02 1.38100e-02 4.01100e-02 4.66600e-02\n 3.76800e-02 3.15000e-02 1.77800e-02 3.44500e-02 2.17700e-02 3.51000e-02\n 2.00900e-02 1.36420e-01 2.29690e-01 2.51990e-01 1.35870e-01 4.35710e-01\n 1.74460e-01 3.75780e-01 2.17190e-01 1.40520e-01 2.89550e-01 1.98020e-01\n 4.56000e-02 7.01300e-02 1.10690e-01 1.14250e-01 3.58090e-01 4.07710e-01\n 6.23560e-01 6.14700e-01 3.15330e-01 5.26930e-01 3.82140e-01 4.12380e-01\n 2.98190e-01 4.41780e-01 5.37000e-01 4.62960e-01 5.75290e-01 3.31470e-01\n 4.47910e-01 3.30450e-01 5.20580e-01 5.11830e-01 8.24400e-02 9.25200e-02\n 1.13290e-01 1.06120e-01 1.02900e-01 1.27570e-01 2.06080e-01 1.91330e-01\n 3.39830e-01 1.96570e-01 1.64390e-01 1.90730e-01 1.40300e-01 2.14090e-01\n 8.22100e-02 3.68940e-01 4.81900e-02 3.54800e-02 1.53800e-02 6.11540e-01\n 6.63510e-01 6.56650e-01 5.40110e-01 5.34120e-01 5.20140e-01 8.25260e-01\n 5.50070e-01 7.61620e-01 7.85700e-01 5.78340e-01 5.40500e-01 9.06500e-02\n 2.99160e-01 1.62110e-01 1.14600e-01 2.21880e-01 5.64400e-02 9.60400e-02\n 1.04690e-01 6.12700e-02 7.97800e-02 2.10380e-01 3.57800e-02 3.70500e-02\n 6.12900e-02 1.50100e-02 9.06000e-03 1.09600e-02 1.96500e-02 3.87100e-02\n 4.59000e-02 4.29700e-02 3.50200e-02 7.88600e-02 3.61500e-02 8.26500e-02\n 8.19900e-02 1.29320e-01 5.37200e-02 1.41030e-01 6.46600e-02 5.56100e-02\n 4.41700e-02 3.53700e-02 9.26600e-02 1.00000e-01 5.51500e-02 5.47900e-02\n 7.50300e-02 4.93200e-02 4.92980e-01 3.49400e-01 2.63548e+00 7.90410e-01\n 2.61690e-01 2.69380e-01 3.69200e-01 2.53560e-01 3.18270e-01 2.45220e-01\n 4.02020e-01 4.75470e-01 1.67600e-01 1.81590e-01 3.51140e-01 2.83920e-01\n 3.41090e-01 1.91860e-01 3.03470e-01 2.41030e-01 6.61700e-02 6.72400e-02\n 4.54400e-02 5.02300e-02 3.46600e-02 5.08300e-02 3.73800e-02 3.96100e-02\n 3.42700e-02 3.04100e-02 3.30600e-02 5.49700e-02 6.15100e-02 1.30100e-02\n 2.49800e-02 2.54300e-02 3.04900e-02 3.11300e-02 6.16200e-02 1.87000e-02\n 1.50100e-02 2.89900e-02 6.21100e-02 7.95000e-02 7.24400e-02 1.70900e-02\n 4.30100e-02 1.06590e-01 8.98296e+00 3.84970e+00 5.20177e+00 4.26131e+00\n 4.54192e+00 3.83684e+00 3.67822e+00 4.22239e+00 3.47428e+00 4.55587e+00\n 3.69695e+00 1.35222e+01 4.89822e+00 5.66998e+00 6.53876e+00 9.23230e+00\n 8.26725e+00 1.11081e+01 1.84982e+01 1.96091e+01 1.52880e+01 9.82349e+00\n 2.36482e+01 1.78667e+01 8.89762e+01 1.58744e+01 9.18702e+00 7.99248e+00\n 2.00849e+01 1.68118e+01 2.43938e+01 2.25971e+01 1.43337e+01 8.15174e+00\n 6.96215e+00 5.29305e+00 1.15779e+01 8.64476e+00 1.33598e+01 8.71675e+00\n 5.87205e+00 7.67202e+00 3.83518e+01 9.91655e+00 2.50461e+01 1.42362e+01\n 9.59571e+00 2.48017e+01 4.15292e+01 6.79208e+01 2.07162e+01 1.19511e+01\n 7.40389e+00 1.44383e+01 5.11358e+01 1.40507e+01 1.88110e+01 2.86558e+01\n 4.57461e+01 1.80846e+01 1.08342e+01 2.59406e+01 7.35341e+01 1.18123e+01\n 1.10874e+01 7.02259e+00 1.20482e+01 7.05042e+00 8.79212e+00 1.58603e+01\n 1.22472e+01 3.76619e+01 7.36711e+00 9.33889e+00 8.49213e+00 1.00623e+01\n 6.44405e+00 5.58107e+00 1.39134e+01 1.11604e+01 1.44208e+01 1.51772e+01\n 1.36781e+01 9.39063e+00 2.20511e+01 9.72418e+00 5.66637e+00 9.96654e+00\n 1.28023e+01 1.06718e+01 6.28807e+00 9.92485e+00 9.32909e+00 7.52601e+00\n 6.71772e+00 5.44114e+00 5.09017e+00 8.24809e+00 9.51363e+00 4.75237e+00\n 4.66883e+00 8.20058e+00 7.75223e+00 6.80117e+00 4.81213e+00 3.69311e+00\n 6.65492e+00 5.82115e+00 7.83932e+00 3.16360e+00 3.77498e+00 4.42228e+00\n 1.55757e+01 1.30751e+01 4.34879e+00 4.03841e+00 3.56868e+00 4.64689e+00\n 8.05579e+00 6.39312e+00 4.87141e+00 1.50234e+01 1.02330e+01 1.43337e+01\n 5.82401e+00 5.70818e+00 5.73116e+00 2.81838e+00 2.37857e+00 3.67367e+00\n 5.69175e+00 4.83567e+00 1.50860e-01 1.83370e-01 2.07460e-01 1.05740e-01\n 1.11320e-01 1.73310e-01 2.79570e-01 1.78990e-01 2.89600e-01 2.68380e-01\n 2.39120e-01 1.77830e-01 2.24380e-01 6.26300e-02 4.52700e-02 6.07600e-02\n 1.09590e-01 4.74100e-02].\nReshape your data either using array.reshape(-1, 1) if your data has a single feature or array.reshape(1, -1) if it contains a single sample."
     ]
    },
    {
     "data": {
      "image/png": "[encoded data removed]",
      "text/plain": [
       "<Figure size 432x288 with 1 Axes>"
      ]
     },
     "metadata": {
      "needs_background": "light"
     },
     "output_type": "display_data"
    }
   ],
   "source": [
    "from pandas import DataFrame\n",
    "from sklearn.datasets import load_boston\n",
    "from sklearn.linear_model import LinearRegression\n",
    "\n",
    "import matplotlib.pyplot as plot\n",
    "\n",
    "boston = load_boston()\n",
    "df = DataFrame(data = boston.data)\n",
    "\n",
    "print(df.head)\n",
    "\n",
    "plot.hist(df[0])\n",
    "plot.hist(df[1])\n"
   ]
  },
  {
   "cell_type": "code",
   "execution_count": null,
   "metadata": {},
   "outputs": [],
   "source": []
  }
 ],
 "metadata": {
  "kernelspec": {
   "display_name": "Python 2",
   "language": "python",
   "name": "python2"
  },
  "language_info": {
   "codemirror_mode": {
    "name": "ipython",
    "version": 2
   },
   "file_extension": ".py",
   "mimetype": "text/x-python",
   "name": "python",
   "nbconvert_exporter": "python",
   "pygments_lexer": "ipython2",
   "version": "2.7.15"
  }
 },
 "nbformat": 4,
 "nbformat_minor": 2
}
